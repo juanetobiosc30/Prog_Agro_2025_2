{
  "nbformat": 4,
  "nbformat_minor": 0,
  "metadata": {
    "colab": {
      "provenance": [],
      "authorship_tag": "ABX9TyO43F4CyejNK8e3/Ki0lBeO",
      "include_colab_link": true
    },
    "kernelspec": {
      "name": "python3",
      "display_name": "Python 3"
    },
    "language_info": {
      "name": "python"
    }
  },
  "cells": [
    {
      "cell_type": "markdown",
      "metadata": {
        "id": "view-in-github",
        "colab_type": "text"
      },
      "source": [
        "<a href=\"https://colab.research.google.com/github/juanetobiosc30/Prog_Agro_2025_2/blob/main/Tomando_Decisiones_semanas_2_y_3_.ipynb\" target=\"_parent\"><img src=\"https://colab.research.google.com/assets/colab-badge.svg\" alt=\"Open In Colab\"/></a>"
      ]
    },
    {
      "cell_type": "markdown",
      "source": [
        "# Situación de Interés en Ingeniería Agrícola:\n",
        "\n",
        "1. Se está diseñando el software para un sistema de\n",
        "riego “inteligente”.\n",
        "2. El programa debe leer el nivel de humedad actual del suelo (un valor de 0 a 100) y decidir qué acción tomar:\n",
        "> no hacer nada,\n",
        "> aplicar un riego ligero o\n",
        "> aplicar un riego profundo, según\n",
        "umbrales predefinidos."
      ],
      "metadata": {
        "id": "fS-ffBWixagw"
      }
    },
    {
      "cell_type": "code",
      "execution_count": 6,
      "metadata": {
        "colab": {
          "base_uri": "https://localhost:8080/"
        },
        "id": "uNnmLmBdvvlR",
        "outputId": "796bec8c-4d6f-4785-ea2f-91b00367b3dd"
      },
      "outputs": [
        {
          "output_type": "stream",
          "name": "stdout",
          "text": [
            "Ingrese el nivel de humedad actual (en porcentaje): 100\n",
            "El suelo está saturado. Es necesario aplicar drenaje.\n"
          ]
        }
      ],
      "source": [
        "# Caso de Ingeniería Agrícola: Lógica de Riego Inteligente (if/elif/else)\n",
        "# Definir los umbrales de humedad\n",
        "# (ej. por debajo de 30% es seco, entre 30% y 70% es óptimo, por encima de 70% es saturado).\n",
        "\n",
        "# Pedir al usuario el nivel de humedad actual.\n",
        "humedad_actual = float(input(\"Ingrese el nivel de humedad actual (en porcentaje): \"))\n",
        "if humedad_actual < 30:\n",
        "    print(\"El suelo está seco. Es necesario aplicar un riego.\")\n",
        "elif humedad_actual >= 30 and humedad_actual <= 70:\n",
        "    print(\"El suelo está óptimo. No es necesario aplicar un riego.\")\n",
        "else:\n",
        "    print(\"El suelo está saturado. Es necesario aplicar drenaje.\")"
      ]
    }
  ]
}