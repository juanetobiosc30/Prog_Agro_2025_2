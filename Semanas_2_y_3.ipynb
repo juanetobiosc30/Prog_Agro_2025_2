{
  "nbformat": 4,
  "nbformat_minor": 0,
  "metadata": {
    "colab": {
      "provenance": [],
      "authorship_tag": "ABX9TyM5uboswokfcyd3aVppPY0D",
      "include_colab_link": true
    },
    "kernelspec": {
      "name": "python3",
      "display_name": "Python 3"
    },
    "language_info": {
      "name": "python"
    }
  },
  "cells": [
    {
      "cell_type": "markdown",
      "metadata": {
        "id": "view-in-github",
        "colab_type": "text"
      },
      "source": [
        "<a href=\"https://colab.research.google.com/github/juanetobiosc30/Prog_Agro_2025_2/blob/main/Semanas_2_y_3.ipynb\" target=\"_parent\"><img src=\"https://colab.research.google.com/assets/colab-badge.svg\" alt=\"Open In Colab\"/></a>"
      ]
    },
    {
      "cell_type": "markdown",
      "source": [
        "# Situación 1: Clasificador de pH del Suelo\n",
        "\n",
        "El pH del suelo es un factor crítico para la absorción de\n",
        "nutrientes por parte de las plantas. Desarrollarás un programa que recibe un valor de pH e informa al\n",
        "agricultor si el suelo es ácido, neutro o alcalino, ofreciendo una recomendación general."
      ],
      "metadata": {
        "id": "hCy166htrqgE"
      }
    },
    {
      "cell_type": "code",
      "source": [
        "# Explicar al usuario que el programa clasifica el pH del suelo.\n",
        "print(\"Este programa clasifica el pH del suelo.\")\n",
        "\n",
        "# Pedir al usuario que ingrese el valor de pH medido (puede ser decimal).\n",
        "ph = float(input(\"Por favor ingrese el valor de pH medido: \"))\n",
        "\n",
        "# Utilizar una estructura 'if' para la primera condición: si el pH es menor que 6.5.\n",
        "if ph < 7:\n",
        "    print(\"El suelo es ácido.\")\n",
        "    # Dentro del 'if', mostrar un mensaje indicando que el suelo es \"Ácido\" y recomendarel uso de cal agrícola.\n",
        "    print(\"Recomendamos el uso de cal agrícola.\")\n",
        "elif ph == 7:\n",
        "    print(\"El suelo es neutro.\")\n",
        "elif ph > 7:\n",
        "    print(\"El suelo es alcalino.\")\n",
        "    print(\"Recomendamos el uso de sulfato.\")\n",
        "\n",
        "\n",
        "\n"
      ],
      "metadata": {
        "colab": {
          "base_uri": "https://localhost:8080/"
        },
        "id": "Tonak4_ZsHen",
        "outputId": "fe4b9c7f-7ebd-47d6-9ed3-377afb432042"
      },
      "execution_count": 2,
      "outputs": [
        {
          "output_type": "stream",
          "name": "stdout",
          "text": [
            "Este programa clasifica el pH del suelo.\n",
            "Por favor ingrese el valor de pH medido: 8\n",
            "El suelo es alcalino.\n",
            "Recomendamos el uso de sulfato.\n"
          ]
        }
      ]
    },
    {
      "cell_type": "markdown",
      "source": [],
      "metadata": {
        "id": "fO21zAtXyVHx"
      }
    },
    {
      "cell_type": "markdown",
      "metadata": {
        "id": "d897a11e"
      },
      "source": [
        "Aquí tienes una explicación línea por línea del código:\n",
        "\n",
        "```python\n",
        "# Explicar al usuario que el programa clasifica el pH del suelo.\n",
        "print(\"Este programa clasifica el pH del suelo.\")\n",
        "```\n",
        "Esta línea es un comentario que explica el propósito del código. La siguiente línea `print(\"Este programa clasifica el pH del suelo.\")` muestra un mensaje en la consola para informar al usuario sobre la función del programa.\n",
        "\n",
        "```python\n",
        "# Pedir al usuario que ingrese el valor de pH medido (puede ser decimal).\n",
        "ph = float(input(\"Por favor ingrese el valor de pH medido: \"))\n",
        "```\n",
        "Esta sección pide al usuario que ingrese el valor de pH. `input(\"Por favor ingrese el valor de pH medido: \")` muestra el mensaje y espera a que el usuario escriba algo y presione Enter. `float()` convierte la entrada del usuario a un número decimal (flotante), permitiendo valores como 6.5 o 7.2, y el resultado se almacena en la variable `ph`.\n",
        "\n",
        "```python\n",
        "# Utilizar una estructura 'if' para la primera condición: si el pH es menor que 6.5.\n",
        "if ph < 7:\n",
        "    print(\"El suelo es ácido.\")\n",
        "    # Dentro del 'if', mostrar un mensaje indicando que el suelo es \"Ácido\" y recomendarel uso de cal agrícola.\n",
        "    print(\"Recomendamos el uso de cal agrícola.\")\n",
        "```\n",
        "Aquí comienza la estructura condicional `if`. Se verifica si el valor de `ph` es menor que 7. Si es `True`, se ejecuta el código dentro de este bloque: se imprime \"El suelo es ácido.\" y se recomienda el uso de cal agrícola.\n",
        "\n",
        "```python\n",
        "elif ph == 7:\n",
        "    print(\"El suelo es neutro.\")\n",
        "```\n",
        "Este es un `elif` (else if). Si la condición anterior (`ph < 7`) fue `False`, se verifica si `ph` es exactamente igual a 7. Si es `True`, se imprime \"El suelo es neutro.\".\n",
        "\n",
        "```python\n",
        "elif ph > 7:\n",
        "    print(\"El suelo es alcalino.\")\n",
        "    print(\"Recomendamos el uso de sulfato.\")\n",
        "```\n",
        "Este es otro `elif`. Si las dos condiciones anteriores fueron `False`, se verifica si `ph` es mayor que 7. Si es `True`, se imprime \"El suelo es alcalino.\" y se recomienda el uso de sulfato.\n",
        "\n",
        "```python\n",
        "```\n",
        "Este último bloque está vacío en el código proporcionado, pero es donde podrías añadir una cláusula `else` para manejar cualquier otro caso, aunque en este contexto con las condiciones `< 7`, `== 7`, y `> 7`, todos los posibles valores numéricos están cubiertos.\n"
      ]
    },
    {
      "cell_type": "markdown",
      "source": [
        "# Situación 2: Simulación de Crecimiento de un Cultivo\n",
        "\n",
        "Un agrónomo quiere simular el crecimiento\n",
        "en altura de una planta durante 5 semanas. La planta crece a una tasa diferente cada semana. El programa\n",
        "debe solicitar la tasa de crecimiento de cada semana y mostrar la altura total al final."
      ],
      "metadata": {
        "id": "HHwhSG8ayVJl"
      }
    },
    {
      "cell_type": "code",
      "source": [
        "# Inicializar una variable para la altura total de la planta en cero.\n",
        "altura = 0\n",
        "\n",
        "# Inicializar una lista para almacenar los crecimientos semanales.\n",
        "crecimientos_semanales = []\n",
        "\n",
        "# Mostrar un mensaje que indique que se simulará el crecimiento durante 5 semanas.\n",
        "print(\"simulacion de crecimiento por cinco semanas\")\n",
        "\n",
        "# Crear un bucle 'for' que se repita 5 veces (una por cada semana).\n",
        "for semana in range(1, 6):\n",
        "    \"\"\"\n",
        "    Dentro del bucle, pedir al usuario el crecimiento de la planta para la semana\n",
        "    actual (ej. \"Ingrese el crecimiento en cm para la semana 1:\").\n",
        "    \"\"\"\n",
        "    crecimiento = float(input(f\"Ingrese el crecimiento en cm para la semana {semana}: \"))\n",
        "    \"\"\"\n",
        "    Actualizar la altura total de la planta sumándole el crecimiento de la semana actual.\n",
        "    \"\"\"\n",
        "    altura += crecimiento\n",
        "    # Agregar el crecimiento de la semana actual a la lista.\n",
        "    crecimientos_semanales.append(crecimiento)\n",
        "\n",
        "# Después de que el bucle termine, mostrar la altura total acumulada de la planta.\n",
        "print(f\"La altura total de la planta es:\",altura, \"cm\")\n",
        "\n",
        "# Mostrar los crecimientos semanales\n",
        "print(\"Crecimientos semanales:\", crecimientos_semanales)"
      ],
      "metadata": {
        "colab": {
          "base_uri": "https://localhost:8080/"
        },
        "id": "x8Zik_Elyiv3",
        "outputId": "544bb3f1-164f-4507-d45b-45421db9e612"
      },
      "execution_count": 6,
      "outputs": [
        {
          "output_type": "stream",
          "name": "stdout",
          "text": [
            "simulacion de crecimiento por cinco semanas\n",
            "Ingrese el crecimiento en cm para la semana 1: 11\n",
            "Ingrese el crecimiento en cm para la semana 2: 12\n",
            "Ingrese el crecimiento en cm para la semana 3: 21\n",
            "Ingrese el crecimiento en cm para la semana 4: 23\n",
            "Ingrese el crecimiento en cm para la semana 5: 33\n",
            "La altura total de la planta es: 100.0 cm\n",
            "Crecimientos semanales: [11.0, 12.0, 21.0, 23.0, 33.0]\n"
          ]
        }
      ]
    },
    {
      "cell_type": "markdown",
      "source": [
        "# Situación 1: Control de Calidad de un Lote de Leche\n",
        "\n",
        "Una planta procesadora debe verificar si un\n",
        "lote de leche cumple con el estándar de acidez (medido en °Dornic). Si la acidez está entre 15 y 18 °D, el\n",
        "lote es aceptado. Si es mayor, se destina a queso; si es menor, se rechaza.\n",
        "\n",
        "Paso a Paso del Código (Guía para el Notebook)\n",
        "1. # Describir el propósito: Programa de control de calidad de leche por acidez.\n",
        "2. # Pedir al operario que ingrese el valor de acidez en grados Dornic.\n",
        "3. # Guardar el valor en una variable.\n",
        "4. # Escribir una condición 'if' que verifique si la acidez es mayor a 18.\n",
        "5. # Si se cumple, imprimir \"Lote destinado para producción de queso\".\n",
        "6. # Usar 'elif' para verificar si la acidez es menor a 15.\n",
        "7. # Si se cumple, imprimir \"Lote RECHAZADO por baja acidez\".\n",
        "8. # Usar 'else' para capturar el caso en que la acidez está en el rango aceptable.\n",
        "9. # Si no se cumplen las condiciones anteriores, imprimir \"Lote ACEPTADO para\n",
        "pasteurización\"."
      ],
      "metadata": {
        "id": "PBGXqy9z6Hkm"
      }
    },
    {
      "cell_type": "code",
      "source": [
        "# 1. Describir el propósito: Programa de control de calidad de leche por acidez.\n",
        "print(\"Programa de control de calidad de leche por acidez.\")\n",
        "\n",
        "# 2. Pedir al operario que ingrese el valor de acidez en grados Dornic.\n",
        "# 3. Guardar el valor en una variable.\n",
        "acidez = float(input(\"Por favor ingrese el valor de acidez en grados Dornic: \"))\n",
        "\n",
        "# 4. Escribir una condición 'if' que verifique si la acidez es mayor a 18.\n",
        "if acidez > 18:\n",
        "    # 5. Si se cumple, imprimir \"Lote destinado para producción de queso\".\n",
        "    print(\"Lote destinado para producción de queso\")\n",
        "# 6. Usar 'elif' para verificar si la acidez es menor a 15.\n",
        "elif acidez < 15:\n",
        "    # 7. Si se cumple, imprimir \"Lote RECHAZADO por baja acidez\".\n",
        "    print(\"Lote RECHAZADO por baja acidez\")\n",
        "# 8. Usar 'else' para capturar el caso en que la acidez está en el rango aceptable.\n",
        "else:\n",
        "    # 9. Si no se cumplen las condiciones anteriores, imprimir \"Lote ACEPTADO para pasteurización\".\n",
        "    print(\"Lote ACEPTADO para pasteurización\")"
      ],
      "metadata": {
        "colab": {
          "base_uri": "https://localhost:8080/"
        },
        "id": "djImAtUO63b4",
        "outputId": "43c3fcd3-ae2a-4a65-c0dc-ef4f4e66b5c6"
      },
      "execution_count": 9,
      "outputs": [
        {
          "output_type": "stream",
          "name": "stdout",
          "text": [
            "Programa de control de calidad de leche por acidez.\n",
            "Por favor ingrese el valor de acidez en grados Dornic: 14\n",
            "Lote RECHAZADO por baja acidez\n"
          ]
        }
      ]
    }
  ]
}