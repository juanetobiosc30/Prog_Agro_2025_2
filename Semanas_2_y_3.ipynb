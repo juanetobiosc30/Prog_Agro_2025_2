{
  "nbformat": 4,
  "nbformat_minor": 0,
  "metadata": {
    "colab": {
      "provenance": [],
      "authorship_tag": "ABX9TyP7MJaXaXWyNTLob2Mn4kBo",
      "include_colab_link": true
    },
    "kernelspec": {
      "name": "python3",
      "display_name": "Python 3"
    },
    "language_info": {
      "name": "python"
    }
  },
  "cells": [
    {
      "cell_type": "markdown",
      "metadata": {
        "id": "view-in-github",
        "colab_type": "text"
      },
      "source": [
        "<a href=\"https://colab.research.google.com/github/juanetobiosc30/Prog_Agro_2025_2/blob/main/Semanas_2_y_3.ipynb\" target=\"_parent\"><img src=\"https://colab.research.google.com/assets/colab-badge.svg\" alt=\"Open In Colab\"/></a>"
      ]
    },
    {
      "cell_type": "markdown",
      "source": [
        "# Situación 1: Clasificador de pH del Suelo\n",
        "\n",
        "El pH del suelo es un factor crítico para la absorción de\n",
        "nutrientes por parte de las plantas. Desarrollarás un programa que recibe un valor de pH e informa al\n",
        "agricultor si el suelo es ácido, neutro o alcalino, ofreciendo una recomendación general."
      ],
      "metadata": {
        "id": "hCy166htrqgE"
      }
    },
    {
      "cell_type": "code",
      "source": [
        "# Explicar al usuario que el programa clasifica el pH del suelo.\n",
        "print(\"Este programa clasifica el pH del suelo.\")\n",
        "\n",
        "# Pedir al usuario que ingrese el valor de pH medido (puede ser decimal).\n",
        "ph = float(input(\"Por favor ingrese el valor de pH medido: \"))\n",
        "\n",
        "# Utilizar una estructura 'if' para la primera condición: si el pH es menor que 6.5.\n",
        "if ph < 7:\n",
        "    print(\"El suelo es ácido.\")\n",
        "    # Dentro del 'if', mostrar un mensaje indicando que el suelo es \"Ácido\" y recomendarel uso de cal agrícola.\n",
        "    print(\"Recomendamos el uso de cal agrícola.\")\n",
        "elif ph == 7:\n",
        "    print(\"El suelo es neutro.\")\n",
        "elif ph > 7:\n",
        "    print(\"El suelo es alcalino.\")\n",
        "    print(\"Recomendamos el uso de sulfato.\")\n",
        "\n",
        "\n",
        "\n"
      ],
      "metadata": {
        "colab": {
          "base_uri": "https://localhost:8080/"
        },
        "id": "Tonak4_ZsHen",
        "outputId": "fe4b9c7f-7ebd-47d6-9ed3-377afb432042"
      },
      "execution_count": 2,
      "outputs": [
        {
          "output_type": "stream",
          "name": "stdout",
          "text": [
            "Este programa clasifica el pH del suelo.\n",
            "Por favor ingrese el valor de pH medido: 8\n",
            "El suelo es alcalino.\n",
            "Recomendamos el uso de sulfato.\n"
          ]
        }
      ]
    },
    {
      "cell_type": "markdown",
      "metadata": {
        "id": "d897a11e"
      },
      "source": [
        "Aquí tienes una explicación línea por línea del código:\n",
        "\n",
        "```python\n",
        "# Explicar al usuario que el programa clasifica el pH del suelo.\n",
        "print(\"Este programa clasifica el pH del suelo.\")\n",
        "```\n",
        "Esta línea es un comentario que explica el propósito del código. La siguiente línea `print(\"Este programa clasifica el pH del suelo.\")` muestra un mensaje en la consola para informar al usuario sobre la función del programa.\n",
        "\n",
        "```python\n",
        "# Pedir al usuario que ingrese el valor de pH medido (puede ser decimal).\n",
        "ph = float(input(\"Por favor ingrese el valor de pH medido: \"))\n",
        "```\n",
        "Esta sección pide al usuario que ingrese el valor de pH. `input(\"Por favor ingrese el valor de pH medido: \")` muestra el mensaje y espera a que el usuario escriba algo y presione Enter. `float()` convierte la entrada del usuario a un número decimal (flotante), permitiendo valores como 6.5 o 7.2, y el resultado se almacena en la variable `ph`.\n",
        "\n",
        "```python\n",
        "# Utilizar una estructura 'if' para la primera condición: si el pH es menor que 6.5.\n",
        "if ph < 7:\n",
        "    print(\"El suelo es ácido.\")\n",
        "    # Dentro del 'if', mostrar un mensaje indicando que el suelo es \"Ácido\" y recomendarel uso de cal agrícola.\n",
        "    print(\"Recomendamos el uso de cal agrícola.\")\n",
        "```\n",
        "Aquí comienza la estructura condicional `if`. Se verifica si el valor de `ph` es menor que 7. Si es `True`, se ejecuta el código dentro de este bloque: se imprime \"El suelo es ácido.\" y se recomienda el uso de cal agrícola.\n",
        "\n",
        "```python\n",
        "elif ph == 7:\n",
        "    print(\"El suelo es neutro.\")\n",
        "```\n",
        "Este es un `elif` (else if). Si la condición anterior (`ph < 7`) fue `False`, se verifica si `ph` es exactamente igual a 7. Si es `True`, se imprime \"El suelo es neutro.\".\n",
        "\n",
        "```python\n",
        "elif ph > 7:\n",
        "    print(\"El suelo es alcalino.\")\n",
        "    print(\"Recomendamos el uso de sulfato.\")\n",
        "```\n",
        "Este es otro `elif`. Si las dos condiciones anteriores fueron `False`, se verifica si `ph` es mayor que 7. Si es `True`, se imprime \"El suelo es alcalino.\" y se recomienda el uso de sulfato.\n",
        "\n",
        "```python\n",
        "```\n",
        "Este último bloque está vacío en el código proporcionado, pero es donde podrías añadir una cláusula `else` para manejar cualquier otro caso, aunque en este contexto con las condiciones `< 7`, `== 7`, y `> 7`, todos los posibles valores numéricos están cubiertos.\n"
      ]
    }
  ]
}