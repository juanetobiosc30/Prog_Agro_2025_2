{
  "nbformat": 4,
  "nbformat_minor": 0,
  "metadata": {
    "colab": {
      "provenance": [],
      "authorship_tag": "ABX9TyNs20SturK6nNG8Ws03lmR8",
      "include_colab_link": true
    },
    "kernelspec": {
      "name": "python3",
      "display_name": "Python 3"
    },
    "language_info": {
      "name": "python"
    }
  },
  "cells": [
    {
      "cell_type": "markdown",
      "metadata": {
        "id": "view-in-github",
        "colab_type": "text"
      },
      "source": [
        "<a href=\"https://colab.research.google.com/github/juanetobiosc30/Prog_Agro_2025_2/blob/main/Semana_4_y_5_Agro.ipynb\" target=\"_parent\"><img src=\"https://colab.research.google.com/assets/colab-badge.svg\" alt=\"Open In Colab\"/></a>"
      ]
    },
    {
      "cell_type": "code",
      "execution_count": null,
      "metadata": {
        "id": "TwSg9wD0v_sz"
      },
      "outputs": [],
      "source": []
    },
    {
      "cell_type": "markdown",
      "metadata": {
        "id": "36e31692"
      },
      "source": [
        "En Python, una **función** es un bloque de código organizado y reutilizable que se utiliza para realizar una tarea específica. Las funciones ayudan a modularizar el código, hacerlo más legible y fácil de mantener.\n",
        "\n",
        "**Uso de las Funciones:**\n",
        "\n",
        "*   **Definición:** Se definen utilizando la palabra clave `def`, seguida del nombre de la función, paréntesis `()` (que pueden contener parámetros) y dos puntos `:`. El bloque de código de la función está indentado."
      ]
    },
    {
      "cell_type": "code",
      "metadata": {
        "id": "05466b48"
      },
      "source": [
        "    mi_funcion()\n",
        "    saludar(\"Mundo\") # Pasando un argumento a la función"
      ],
      "execution_count": null,
      "outputs": []
    },
    {
      "cell_type": "code",
      "metadata": {
        "id": "dfbb3d5a"
      },
      "source": [
        "    def sumar(a, b):\n",
        "        return a + b\n",
        "\n",
        "    resultado = sumar(5, 3) # resultado será 8\n",
        "    print(resultado)"
      ],
      "execution_count": null,
      "outputs": []
    },
    {
      "cell_type": "markdown",
      "metadata": {
        "id": "fa02b8d4"
      },
      "source": [
        "En Python, las **listas**, las **tuplas** y los **diccionarios** son estructuras de datos fundamentales que se utilizan para almacenar colecciones de elementos. Cada una tiene sus propias características y casos de uso.\n",
        "\n",
        "**Listas (`list`)**\n",
        "\n",
        "*   Son colecciones ordenadas y modificables (mutables) de elementos.\n",
        "*   Se definen utilizando corchetes `[]`.\n",
        "*   Pueden contener elementos de diferentes tipos de datos.\n",
        "*   Permiten agregar, eliminar o modificar elementos después de su creación.\n",
        "*   Admiten indexación y slicing.\n",
        "\n",
        "**Tuplas (`tuple`)**\n",
        "\n",
        "*   Son colecciones ordenadas e inmutables de elementos.\n",
        "*   Se definen utilizando paréntesis `()`.\n",
        "*   Pueden contener elementos de diferentes tipos de datos.\n",
        "*   Una vez creadas, no se pueden modificar (agregar, eliminar o cambiar elementos).\n",
        "*   Admiten indexación y slicing.\n",
        "*   Son generalmente más rápidas que las listas para iterar.\n",
        "*   Se utilizan a menudo para datos que no deben cambiar, como coordenadas.\n",
        "\n",
        "**Diccionarios (`dict`)**\n",
        "\n",
        "*   Son colecciones desordenadas y modificables de pares clave-valor.\n",
        "*   Se definen utilizando llaves `{}`.\n",
        "*   Cada elemento es un par `clave: valor`. Las claves deben ser únicas e inmutables (como cadenas, números o tuplas). Los valores pueden ser de cualquier tipo de dato.\n",
        "*   Permiten acceder a los valores utilizando sus claves.\n",
        "*   Permiten agregar, eliminar o modificar pares clave-valor.\n",
        "\n",
        "**Similitudes:**\n",
        "\n",
        "*   Las listas, tuplas y diccionarios pueden almacenar colecciones de elementos.\n",
        "*   Las listas y tuplas son colecciones ordenadas, lo que significa que los elementos tienen un orden definido y se puede acceder a ellos por índice.\n",
        "*   Las listas y diccionarios son mutables, lo que permite modificar su contenido después de la creación.\n",
        "\n",
        "**Diferencias:**\n",
        "\n",
        "*   **Mutabilidad:** Las listas y diccionarios son mutables (se pueden cambiar), mientras que las tuplas son inmutables (no se pueden cambiar después de la creación). Esta es la diferencia más importante.\n",
        "*   **Sintaxis:** Se definen con diferentes tipos de corchetes/paréntesis: `[]` para listas, `()` para tuplas y `{}` para diccionarios.\n",
        "*   **Organización:** Las listas y tuplas almacenan elementos en una secuencia indexada numéricamente, mientras que los diccionarios almacenan elementos como pares clave-valor.\n",
        "*   **Casos de Uso:** Las listas se usan para colecciones que cambian frecuentemente. Las tuplas se usan para colecciones fijas o para datos que no deben ser alterados. Los diccionarios se usan para mapear claves a valores, ideal para buscar información por nombre o identificador."
      ]
    },
    {
      "cell_type": "markdown",
      "source": [
        "# Situación de Interés en Ingeniería Agrícola:\n",
        "\n",
        "Un agrónomo consultor necesita una herramienta\n",
        "rápida para aconsejar a los agricultores sobre qué cultivos sembrar. Se requiere un programa que almacene información de varios cultivos (nombre, mes ideal de siembra, necesidad de agua) y que, al\n",
        "ingresar el nombre de un mes, recomiende qué cultivos son adecuados para sembrar en ese período.\n",
        "\n",
        "Caso de Ingeniería Agrícola: Planificador de Cultivos (Listas y Funciones)\n",
        "• Paso a Paso del Código:\n",
        "1. Crear una lista donde cada elemento sea un diccionario. Cada diccionario representará un\n",
        "cultivo y tendrá claves como nombre, mes_siembra y riego.\n",
        "2. Crear una función llamada recomendar_cultivos. Esta función recibirá dos parámetros: la\n",
        "lista completa de cultivos y el mes actual.\n",
        "3. Dentro de la función, usar un bucle for para recorrer la lista de cultivos.\n",
        "4. En cada iteración, usar un if para comprobar si el mes_siembra del cultivo coincide con el mes\n",
        "proporcionado.\n",
        "5. Si coinciden, añadir el nombre del cultivo a una nueva lista de recomendados.\n",
        "6. Al final, la función debe devolver la lista de cultivos recomendados.\n",
        "7. En el programa principal, pedir al usuario el mes y llamar a la función para obtener e imprimir\n",
        "las recomendaciones."
      ],
      "metadata": {
        "id": "NPXQlMRV1vTi"
      }
    },
    {
      "cell_type": "markdown",
      "metadata": {
        "id": "ab613e55"
      },
      "source": [
        "Aquí tienes la explicación del código de Python para el Planificador de Cultivos:\n",
        "\n",
        "Este código implementa un sencillo planificador de cultivos utilizando listas y diccionarios en Python, siguiendo los pasos descritos en la situación de interés de Ingeniería Agrícola.\n",
        "\n",
        "1.  **Lista de Cultivos (`cultivos`)**:\n",
        "    *   Se crea una lista llamada `cultivos`.\n",
        "    *   Cada elemento dentro de esta lista es un **diccionario**.\n",
        "    *   Cada diccionario representa un cultivo individual y contiene tres pares clave-valor:\n",
        "        *   `\"nombre\"`: El nombre del cultivo (ej: \"Maíz\", \"Trigo\").\n",
        "        *   `\"mes_siembra\"`: El mes ideal para sembrar ese cultivo (ej: \"Abril\", \"Octubre\").\n",
        "        *   `\"riego\"`: La necesidad de agua del cultivo (ej: \"Alto\", \"Medio\", \"Bajo\").\n",
        "2.  **Función `recomendar_cultivos`**:\n",
        "    *   Se define una función llamada `recomendar_cultivos` que toma dos argumentos:\n",
        "        *   `lista_cultivos`: La lista de diccionarios que contiene la información de todos los cultivos.\n",
        "        *   `mes_actual`: Una cadena de texto que representa el mes para el que se desean obtener recomendaciones.\n",
        "    *   Dentro de la función, se inicializa una lista vacía llamada `recomendados`. Esta lista almacenará los nombres de los cultivos que coincidan con el mes ingresado.\n",
        "    *   Se utiliza un bucle `for` para iterar sobre cada `cultivo` (que es un diccionario) en la `lista_cultivos` proporcionada.\n",
        "    *   Dentro del bucle, se usa una sentencia `if` para comparar el valor asociado a la clave `\"mes_siembra\"` del diccionario `cultivo` con el `mes_actual` ingresado por el usuario. Se utiliza `.lower()` en ambos para asegurar que la comparación no distinga entre mayúsculas y minúsculas (ej: \"Abril\" es igual a \"abril\").\n",
        "    *   Si el `mes_siembra` del cultivo actual coincide con el `mes_actual`, el nombre del cultivo (obtenido con `cultivo[\"nombre\"]`) se añade a la lista `recomendados` usando `.append()`.\n",
        "    *   Finalmente, la función `returna` la lista `recomendados`, que contiene los nombres de todos los cultivos adecuados para el mes especificado.\n",
        "3.  **Programa Principal**:\n",
        "    *   Se solicita al usuario que ingrese el mes actual utilizando la función `input()`. El valor ingresado se almacena en la variable `mes_ingresado`.\n",
        "    *   Se llama a la función `recomendar_cultivos`, pasándole la lista `cultivos` y el `mes_ingresado`. El resultado (la lista de cultivos recomendados) se guarda en la variable `cultivos_recomendados`.\n",
        "    *   Se utiliza una sentencia `if` para verificar si la lista `cultivos_recomendados` no está vacía (es decir, si se encontraron cultivos para el mes).\n",
        "    *   Si la lista no está vacía:\n",
        "        *   Se imprime un mensaje indicando los cultivos recomendados para el mes ingresado.\n",
        "        *   Se usa otro bucle `for` para iterar sobre cada `cultivo` en la lista `cultivos_recomendados` e imprimir cada nombre de cultivo en una línea separada con un guion.\n",
        "    *   Si la lista `cultivos_recomendados` está vacía (es decir, no se encontraron cultivos para ese mes en la lista):\n",
        "        *   Se imprime un mensaje indicando que no hay cultivos recomendados para sembrar en el mes ingresado según la lista proporcionada.\n",
        "\n",
        "En resumen, el código define una estructura de datos para los cultivos, una función para filtrar esos cultivos por mes de siembra, y luego interactúa con el usuario para obtener un mes y mostrar las recomendaciones correspondientes."
      ]
    },
    {
      "cell_type": "markdown",
      "metadata": {
        "id": "8d60bbb8"
      },
      "source": [
        "Aquí tienes la explicación del código de Python para el Planificador de Cultivos:\n",
        "\n",
        "Este código implementa un sencillo planificador de cultivos utilizando listas y diccionarios en Python, siguiendo los pasos descritos en la situación de interés de Ingeniería Agrícola.\n",
        "\n",
        "1.  **Lista de Cultivos (`cultivos`)**:\n",
        "    *   Se crea una lista llamada `cultivos`.\n",
        "    *   Cada elemento dentro de esta lista es un **diccionario**.\n",
        "    *   Cada diccionario representa un cultivo individual y contiene tres pares clave-valor:\n",
        "        *   `\"nombre\"`: El nombre del cultivo (ej: \"Maíz\", \"Trigo\").\n",
        "        *   `\"mes_siembra\"`: El mes ideal para sembrar ese cultivo (ej: \"Abril\", \"Octubre\").\n",
        "        *   `\"riego\"`: La necesidad de agua del cultivo (ej: \"Alto\", \"Medio\", \"Bajo\").\n",
        "\n",
        "2.  **Función `recomendar_cultivos`**:\n",
        "    *   Se define una función llamada `recomendar_cultivos` que toma dos argumentos:\n",
        "        *   `lista_cultivos`: La lista de diccionarios que contiene la información de todos los cultivos.\n",
        "        *   `mes_actual`: Una cadena de texto que representa el mes para el que se desean obtener recomendaciones.\n",
        "    *   Dentro de la función, se inicializa una lista vacía llamada `recomendados`. Esta lista almacenará los nombres de los cultivos que coincidan con el mes ingresado.\n",
        "    *   Se utiliza un bucle `for` para iterar sobre cada `cultivo` (que es un diccionario) en la `lista_cultivos` proporcionada.\n",
        "    *   Dentro del bucle, se usa una sentencia `if` para comparar el valor asociado a la clave `\"mes_siembra\"` del diccionario `cultivo` con el `mes_actual` ingresado por el usuario. Se utiliza `.lower()` en ambos para asegurar que la comparación no distinga entre mayúsculas y minúsculas (ej: \"Abril\" es igual a \"abril\").\n",
        "    *   Si el `mes_siembra` del cultivo actual coincide con el `mes_actual`, el nombre del cultivo (obtenido con `cultivo[\"nombre\"]`) se añade a la lista `recomendados` usando `.append()`.\n",
        "    *   Finalmente, la función `returna` la lista `recomendados`, que contiene los nombres de todos los cultivos adecuados para el mes especificado.\n",
        "\n",
        "3.  **Programa Principal**:\n",
        "    *   Se solicita al usuario que ingrese el mes actual utilizando la función `input()`. El valor ingresado se almacena en la variable `mes_ingresado`.\n",
        "    *   Se llama a la función `recomendar_cultivos`, pasándole la lista `cultivos` y el `mes_ingresado`. El resultado (la lista de cultivos recomendados) se guarda en la variable `cultivos_recomendados`.\n",
        "    *   Se utiliza una sentencia `if` para verificar si la lista `cultivos_recomendados` no está vacía (es decir, si se encontraron cultivos para el mes).\n",
        "    *   Si la lista no está vacía:\n",
        "        *   Se imprime un mensaje indicando los cultivos recomendados para el mes ingresado.\n",
        "        *   Se usa otro bucle `for` para iterar sobre cada `cultivo` en la lista `cultivos_recomendados` e imprimir cada nombre de cultivo en una línea separada con un guion.\n",
        "    *   Si la lista `cultivos_recomendados` está vacía (es decir, no se encontraron cultivos para ese mes en la lista):\n",
        "        *   Se imprime un mensaje indicando que no hay cultivos recomendados para sembrar en el mes ingresado según la lista proporcionada.\n",
        "\n",
        "En resumen, el código define una estructura de datos para los cultivos, una función para filtrar esos cultivos por mes de siembra, y luego interactúa con el usuario para obtener un mes y mostrar las recomendaciones correspondientes.\n"
      ]
    },
    {
      "cell_type": "code",
      "metadata": {
        "colab": {
          "base_uri": "https://localhost:8080/"
        },
        "id": "51b543c2",
        "outputId": "b1e0511b-2ac4-44be-dfbb-a12b5fb61e40"
      },
      "source": [
        "# 1. Crear una lista donde cada elemento sea un diccionario. Cada diccionario representará un\n",
        "#    cultivo y tendrá claves como nombre, mes_siembra y riego.\n",
        "cultivos = [\n",
        "    {\"nombre\": \"Maíz\", \"mes_siembra\": \"Abril\", \"riego\": \"Alto\"},\n",
        "    {\"nombre\": \"Trigo\", \"mes_siembra\": \"Octubre\", \"riego\": \"Medio\"},\n",
        "    {\"nombre\": \"Tomate\", \"mes_siembra\": \"Marzo\", \"riego\": \"Alto\"},\n",
        "    {\"nombre\": \"Patata\", \"mes_siembra\": \"Febrero\", \"riego\": \"Medio\"},\n",
        "    {\"nombre\": \"Girasol\", \"mes_siembra\": \"Mayo\", \"riego\": \"Bajo\"},\n",
        "    {\"nombre\": \"Cebolla\", \"mes_siembra\": \"Septiembre\", \"riego\": \"Medio\"},\n",
        "]\n",
        "\n",
        "# 2. Crear una función llamada recomendar_cultivos. Esta función recibirá dos parámetros: la\n",
        "#    lista completa de cultivos y el mes actual.\n",
        "def recomendar_cultivos(lista_cultivos, mes_actual):\n",
        "    recomendados = []\n",
        "    # 3. Dentro de la función, usar un bucle for para recorrer la lista de cultivos.\n",
        "    for cultivo in lista_cultivos:\n",
        "        # 4. En cada iteración, usar un if para comprobar si el mes_siembra del cultivo coincide con el mes\n",
        "        #    proporcionado.\n",
        "        if cultivo[\"mes_siembra\"].lower() == mes_actual.lower():\n",
        "            # 5. Si coinciden, añadir el nombre del cultivo a una nueva lista de recomendados.\n",
        "            recomendados.append(cultivo[\"nombre\"])\n",
        "    # 6. Al final, la función debe devolver la lista de cultivos recomendados.\n",
        "    return recomendados\n",
        "\n",
        "# 7. En el programa principal, pedir al usuario el mes y llamar a la función para obtener e imprimir\n",
        "#    las recomendaciones.\n",
        "mes_ingresado = input(\"Ingrese el mes actual para recomendar cultivos: \")\n",
        "\n",
        "cultivos_recomendados = recomendar_cultivos(cultivos, mes_ingresado)\n",
        "\n",
        "if cultivos_recomendados:\n",
        "    print(f\"Cultivos recomendados para sembrar en {mes_ingresado}:\")\n",
        "    for cultivo in cultivos_recomendados:\n",
        "        print(f\"- {cultivo}\")\n",
        "else:\n",
        "    print(f\"No hay cultivos recomendados para sembrar en {mes_ingresado} en esta lista.\")"
      ],
      "execution_count": 1,
      "outputs": [
        {
          "output_type": "stream",
          "name": "stdout",
          "text": [
            "Ingrese el mes actual para recomendar cultivos: Noviembre\n",
            "No hay cultivos recomendados para sembrar en Noviembre en esta lista.\n"
          ]
        }
      ]
    },
    {
      "cell_type": "markdown",
      "source": [
        "# Situación 2: Función para Validar Parámetros de Calidad\n",
        "\n",
        "Una planta recibe lotes de fruta y debe\n",
        "validar si cumplen con los parámetros de pH y grados Brix para ser aceptados. Crearás una función que\n",
        "centralice esta lógica de validación. • Paso a Paso del Código (Guía para el Notebook)\n",
        "1. # Definir una función 'validar_lote' que tome dos parámetros: 'ph' y 'brix'.\n",
        "2. # Dentro de la función, usar una estructura 'if' para verificar si el pH está\n",
        "entre 3.5 y 4.5 Y si los grados Brix son mayores a 12.\n",
        "3. # Si ambas condiciones se cumplen, la función debe devolver el valor booleano\n",
        "True.\n",
        "4. # De lo contrario (else), la función debe devolver el valor booleano False.\n",
        "5. # En el programa principal, pedir al usuario el pH y los grados Brix del lote\n",
        "actual.\n",
        "6. # Llamar a la función 'validar_lote' con los datos ingresados y guardar el\n",
        "resultado (True/False) en una variable.\n",
        "7. # Usar un 'if' en el programa principal para comprobar el valor de esa variable.\n",
        "8. # Si la variable es True, imprimir \"Lote APROBADO\". Si es False, imprimir \"Lote\n",
        "RECHAZADO\"."
      ],
      "metadata": {
        "id": "2yXoOk_36_tu"
      }
    },
    {
      "cell_type": "code",
      "metadata": {
        "colab": {
          "base_uri": "https://localhost:8080/"
        },
        "id": "71c27105",
        "outputId": "0008d45c-a046-45ac-b8a0-34964d934922"
      },
      "source": [
        "# 1. Definir una función 'validar_lote' que tome dos parámetros: 'ph' y 'brix'.\n",
        "def validar_lote(ph, brix):\n",
        "    # 2. Dentro de la función, usar una estructura 'if' para verificar si el pH está\n",
        "    #    entre 3.5 y 4.5 Y si los grados Brix son mayores a 12.\n",
        "    if 3.5 <= ph <= 4.5 and brix > 12:\n",
        "        # 3. Si ambas condiciones se cumplen, la función debe devolver el valor booleano\n",
        "        #    True.\n",
        "        return True\n",
        "    # 4. De lo contrario (else), la función debe devolver el valor booleano False.\n",
        "    else:\n",
        "        return False\n",
        "\n",
        "# 5. En el programa principal, pedir al usuario el pH y los grados Brix del lote\n",
        "#    actual.\n",
        "try:\n",
        "    ph_ingresado = float(input(\"Ingrese el pH del lote: \"))\n",
        "    brix_ingresado = float(input(\"Ingrese los grados Brix del lote: \"))\n",
        "\n",
        "    # 6. Llamar a la función 'validar_lote' con los datos ingresados y guardar el\n",
        "    #    resultado (True/False) en una variable.\n",
        "    lote_aprobado = validar_lote(ph_ingresado, brix_ingresado)\n",
        "\n",
        "    # 7. Usar un 'if' en el programa principal para comprobar el valor de esa variable.\n",
        "    # 8. Si la variable es True, imprimir \"Lote APROBADO\". Si es False, imprimir \"Lote\n",
        "    #    RECHAZADO\".\n",
        "    if lote_aprobado:\n",
        "        print(\"Lote APROBADO\")\n",
        "    else:\n",
        "        print(\"Lote RECHAZADO\")\n",
        "\n",
        "except ValueError:\n",
        "    print(\"Entrada inválida. Por favor, ingrese valores numéricos para pH y Brix.\")"
      ],
      "execution_count": 3,
      "outputs": [
        {
          "output_type": "stream",
          "name": "stdout",
          "text": [
            "Ingrese el pH del lote: 4\n",
            "Ingrese los grados Brix del lote: 13\n",
            "Lote APROBADO\n"
          ]
        }
      ]
    },
    {
      "cell_type": "markdown",
      "metadata": {
        "id": "add7da9d"
      },
      "source": [
        "En Python, los bloques `try` y `except` se utilizan para manejar errores y excepciones que pueden ocurrir durante la ejecución de un programa. Este mecanismo se conoce como **manejo de excepciones**.\n",
        "\n",
        "**¿Por qué usar `try` y `except`?**\n",
        "\n",
        "Algunas operaciones en un programa pueden fallar debido a diversas razones (por ejemplo, intentar dividir por cero, acceder a un archivo que no existe, o convertir una entrada de usuario inválida a un número). Sin un manejo adecuado de excepciones, estos errores detendrían la ejecución del programa abruptamente. `try...except` permite \"atrapar\" estos errores, manejarlos de manera controlada y evitar que el programa colapse.\n",
        "\n",
        "**Cómo funciona:**\n",
        "\n",
        "1.  **Bloque `try`:**\n",
        "    *   Contiene el código que **podría** generar una excepción.\n",
        "    *   Python intenta ejecutar el código dentro del bloque `try`.\n",
        "    *   Si no ocurre ninguna excepción, el código del bloque `try` se ejecuta completamente y el bloque `except` es ignorado.\n",
        "\n",
        "2.  **Bloque `except`:**\n",
        "    *   Contiene el código que se ejecuta si ocurre una excepción en el bloque `try`.\n",
        "    *   Puedes especificar el tipo de excepción que quieres atrapar (por ejemplo, `ValueError`, `TypeError`, `FileNotFoundError`). Si no especificas un tipo de excepción, atrapará cualquier excepción que ocurra en el bloque `try`. Es una buena práctica especificar el tipo de excepción para manejar errores específicos de manera más precisa.\n",
        "    *   Dentro del bloque `except`, puedes incluir código para:\n",
        "        *   Informar al usuario sobre el error.\n",
        "        *   Intentar recuperarse del error.\n",
        "        *   Registrar información sobre el error para depuración.\n",
        "\n",
        "**Sintaxis básica:**"
      ]
    },
    {
      "cell_type": "code",
      "metadata": {
        "id": "43ec2395"
      },
      "source": [
        "try:\n",
        "    numero = int(input(\"Introduce un número entero: \"))\n",
        "    print(\"Número ingresado:\", numero)\n",
        "except ValueError:\n",
        "    print(\"Entrada inválida. Por favor, introduce solo números enteros.\")"
      ],
      "execution_count": null,
      "outputs": []
    },
    {
      "cell_type": "markdown",
      "metadata": {
        "id": "81610f6a"
      },
      "source": [
        "Aquí tienes la explicación del código de Python para la **Función para Validar Parámetros de Calidad**:\n",
        "\n",
        "Este código implementa una función sencilla para validar si un lote de fruta cumple con ciertos parámetros de calidad (pH y grados Brix), siguiendo los pasos descritos en la situación de interés.\n",
        "\n",
        "1.  **Definición de la función `validar_lote`**:\n",
        "    *   Se define una función llamada `validar_lote` que acepta dos argumentos: `ph` y `brix`. Estos argumentos representarán el valor de pH y los grados Brix del lote a validar.\n",
        "2.  **Validación de parámetros dentro de la función**:\n",
        "    *   Se utiliza una sentencia `if` para verificar si se cumplen dos condiciones simultáneamente:\n",
        "        *   El `ph` debe estar entre 3.5 y 4.5 (inclusive). La expresión `3.5 <= ph <= 4.5` verifica este rango.\n",
        "        *   Los `brix` deben ser mayores a 12. La expresión `brix > 12` verifica esta condición.\n",
        "    *   El operador lógico `and` asegura que ambas condiciones deben ser verdaderas para que el bloque de código dentro del `if` se ejecute.\n",
        "3.  **Retorno de valor booleano (True)**:\n",
        "    *   Si ambas condiciones en la sentencia `if` son verdaderas, la función ejecuta `return True`. Esto significa que el lote cumple con los parámetros de calidad y es \"APROBADO\".\n",
        "4.  **Retorno de valor booleano (False)**:\n",
        "    *   Si la condición del `if` no se cumple (es decir, al menos una de las condiciones de pH o Brix es falsa), se ejecuta el bloque `else`.\n",
        "    *   Dentro del `else`, la función ejecuta `return False`. Esto significa que el lote no cumple con los parámetros y es \"RECHAZADO\".\n",
        "5.  **Programa Principal - Entrada del usuario**:\n",
        "    *   La parte principal del programa solicita al usuario que ingrese el pH y los grados Brix del lote utilizando la función `input()`.\n",
        "    *   Se utiliza `float()` para convertir las entradas del usuario a números de punto flotante, ya que es probable que los valores de pH y Brix no sean enteros.\n",
        "    *   Un bloque `try...except ValueError` se utiliza para manejar posibles errores si el usuario ingresa algo que no se puede convertir a un número (como texto). Si ocurre un `ValueError`, se imprime un mensaje de error.\n",
        "6.  **Llamada a la función y almacenamiento del resultado**:\n",
        "    *   Dentro del bloque `try`, se llama a la función `validar_lote`, pasándole los valores de `ph_ingresado` y `brix_ingresado` que el usuario proporcionó.\n",
        "    *   El valor booleano que devuelve la función (`True` o `False`) se almacena en la variable `lote_aprobado`.\n",
        "7.  **Verificación del resultado y salida**:\n",
        "    *   Se utiliza otra sentencia `if` en el programa principal para verificar el valor de la variable `lote_aprobado`.\n",
        "    *   Si `lote_aprobado` es `True`, se imprime el mensaje \"Lote APROBADO\".\n",
        "    *   Si `lote_aprobado` es `False`, se imprime el mensaje \"Lote RECHAZADO\".\n",
        "\n",
        "En resumen, el código define una función reutilizable para validar lotes de fruta basada en criterios numéricos de pH y Brix, y luego utiliza esta función en un programa principal para interactuar con el usuario y reportar el resultado de la validación."
      ]
    },
    {
      "cell_type": "markdown",
      "source": [
        "# Situación Ingenieria Agroindustrial: Ficha Técnica de un Producto\n",
        "\n",
        "Se necesita un programa para almacenar y mostrar la\n",
        "información clave de un producto alimenticio, como su nombre, lote, fecha de vencimiento y porcentaje de\n",
        "humedad. Un diccionario es perfecto para esto, ya que cada dato tiene una etiqueta clara.• Paso a Paso del Código (Guía para el Notebook)\n",
        "\n",
        "1. # Crear un diccionario vacío llamado 'ficha_producto'.\n",
        "2. # Pedir al usuario el nombre del producto y guardarlo en el diccionario con la\n",
        "clave 'nombre'.\n",
        "3. # Pedir el número de lote y guardarlo con la clave 'lote'.\n",
        "4. # Pedir la fecha de vencimiento y guardarla con la clave 'vencimiento'.\n",
        "5. # Pedir el porcentaje de humedad y guardarlo con la clave 'humedad'.\n",
        "6. # Mostrar un encabezado que diga \"--- Ficha Técnica del Producto ---\".\n",
        "7. # Imprimir cada uno de los valores del diccionario accediendo a ellos a través\n",
        "de sus claves (ej. ficha_producto['nombre'])."
      ],
      "metadata": {
        "id": "qiKq_nGW9kdD"
      }
    },
    {
      "cell_type": "code",
      "source": [],
      "metadata": {
        "id": "vrvVDmJ898u6"
      },
      "execution_count": null,
      "outputs": []
    },
    {
      "cell_type": "code",
      "metadata": {
        "colab": {
          "base_uri": "https://localhost:8080/",
          "height": 1000
        },
        "id": "b3b502e4",
        "outputId": "75059e99-a7ce-41eb-febc-8fbd6c358455"
      },
      "source": [
        "# 1. Crear un diccionario vacío llamado 'ficha_producto'.\n",
        "# 2. Pedir al usuario el nombre del producto y guardarlo en el diccionario con la\n",
        "#    clave 'nombre'.\n",
        "# 3. Pedir el número de lote y guardarlo con la clave 'lote'.\n",
        "# 4. Pedir la fecha de vencimiento y guardarla con la clave 'vencimiento'.\n",
        "# 5. Pedir el porcentaje de humedad y guardarlo con la clave 'humedad'.\n",
        "# 6. Mostrar un encabezado que diga \"--- Ficha Técnica del Producto ---\".\n",
        "# 7. Imprimir cada uno de los valores del diccionario accediendo a ellos a través\n",
        "#    de sus claves (ej. ficha_producto['nombre']).\n",
        "\n",
        "while True:\n",
        "    ficha_producto = {}\n",
        "\n",
        "    nombre = input(\"Ingrese el nombre del producto (o 'fin' para terminar): \")\n",
        "    if nombre.lower() == 'fin':\n",
        "        break\n",
        "\n",
        "    ficha_producto['nombre'] = nombre\n",
        "    ficha_producto['lote'] = input(\"Ingrese el número de lote: \")\n",
        "    ficha_producto['vencimiento'] = input(\"Ingrese la fecha de vencimiento: \")\n",
        "    ficha_producto['humedad'] = input(\"Ingrese el porcentaje de humedad: \")\n",
        "\n",
        "    print(\"\\n--- Ficha Técnica del Producto ---\")\n",
        "    print(\"Nombre:\", ficha_producto['nombre'])\n",
        "    print(\"Lote:\", ficha_producto['lote'])\n",
        "    print(\"Fecha de Vencimiento:\", ficha_producto['vencimiento'])\n",
        "    print(\"Porcentaje de Humedad:\", ficha_producto['humedad'])\n",
        "    print(\"-\" * 30) # Separador para la siguiente ficha\n",
        "\n",
        "print(\"Programa finalizado.\")"
      ],
      "execution_count": 5,
      "outputs": [
        {
          "name": "stdout",
          "output_type": "stream",
          "text": [
            "Ingrese el nombre del producto (o 'fin' para terminar): Mango\n",
            "Ingrese el número de lote: 123\n",
            "Ingrese la fecha de vencimiento: 12/12/2027\n",
            "Ingrese el porcentaje de humedad: 78\n",
            "\n",
            "--- Ficha Técnica del Producto ---\n",
            "Nombre: Mango\n",
            "Lote: 123\n",
            "Fecha de Vencimiento: 12/12/2027\n",
            "Porcentaje de Humedad: 78\n",
            "------------------------------\n",
            "Ingrese el nombre del producto (o 'fin' para terminar): Yuca\n",
            "Ingrese el número de lote: 124\n",
            "Ingrese la fecha de vencimiento: 12/12/2028\n",
            "Ingrese el porcentaje de humedad: 80\n",
            "\n",
            "--- Ficha Técnica del Producto ---\n",
            "Nombre: Yuca\n",
            "Lote: 124\n",
            "Fecha de Vencimiento: 12/12/2028\n",
            "Porcentaje de Humedad: 80\n",
            "------------------------------\n",
            "Ingrese el nombre del producto (o 'fin' para terminar): \n",
            "Ingrese el número de lote: \n",
            "Ingrese la fecha de vencimiento: \n",
            "Ingrese el porcentaje de humedad: \n",
            "\n",
            "--- Ficha Técnica del Producto ---\n",
            "Nombre: \n",
            "Lote: \n",
            "Fecha de Vencimiento: \n",
            "Porcentaje de Humedad: \n",
            "------------------------------\n",
            "Ingrese el nombre del producto (o 'fin' para terminar): \n",
            "Ingrese el número de lote: \n",
            "Ingrese la fecha de vencimiento: \n",
            "Ingrese el porcentaje de humedad: \n",
            "\n",
            "--- Ficha Técnica del Producto ---\n",
            "Nombre: \n",
            "Lote: \n",
            "Fecha de Vencimiento: \n",
            "Porcentaje de Humedad: \n",
            "------------------------------\n",
            "Ingrese el nombre del producto (o 'fin' para terminar): \n"
          ]
        },
        {
          "output_type": "error",
          "ename": "KeyboardInterrupt",
          "evalue": "Interrupted by user",
          "traceback": [
            "\u001b[0;31m---------------------------------------------------------------------------\u001b[0m",
            "\u001b[0;31mKeyboardInterrupt\u001b[0m                         Traceback (most recent call last)",
            "\u001b[0;32m/tmp/ipython-input-3073886401.py\u001b[0m in \u001b[0;36m<cell line: 0>\u001b[0;34m()\u001b[0m\n\u001b[1;32m     17\u001b[0m \u001b[0;34m\u001b[0m\u001b[0m\n\u001b[1;32m     18\u001b[0m     \u001b[0mficha_producto\u001b[0m\u001b[0;34m[\u001b[0m\u001b[0;34m'nombre'\u001b[0m\u001b[0;34m]\u001b[0m \u001b[0;34m=\u001b[0m \u001b[0mnombre\u001b[0m\u001b[0;34m\u001b[0m\u001b[0;34m\u001b[0m\u001b[0m\n\u001b[0;32m---> 19\u001b[0;31m     \u001b[0mficha_producto\u001b[0m\u001b[0;34m[\u001b[0m\u001b[0;34m'lote'\u001b[0m\u001b[0;34m]\u001b[0m \u001b[0;34m=\u001b[0m \u001b[0minput\u001b[0m\u001b[0;34m(\u001b[0m\u001b[0;34m\"Ingrese el número de lote: \"\u001b[0m\u001b[0;34m)\u001b[0m\u001b[0;34m\u001b[0m\u001b[0;34m\u001b[0m\u001b[0m\n\u001b[0m\u001b[1;32m     20\u001b[0m     \u001b[0mficha_producto\u001b[0m\u001b[0;34m[\u001b[0m\u001b[0;34m'vencimiento'\u001b[0m\u001b[0;34m]\u001b[0m \u001b[0;34m=\u001b[0m \u001b[0minput\u001b[0m\u001b[0;34m(\u001b[0m\u001b[0;34m\"Ingrese la fecha de vencimiento: \"\u001b[0m\u001b[0;34m)\u001b[0m\u001b[0;34m\u001b[0m\u001b[0;34m\u001b[0m\u001b[0m\n\u001b[1;32m     21\u001b[0m     \u001b[0mficha_producto\u001b[0m\u001b[0;34m[\u001b[0m\u001b[0;34m'humedad'\u001b[0m\u001b[0;34m]\u001b[0m \u001b[0;34m=\u001b[0m \u001b[0minput\u001b[0m\u001b[0;34m(\u001b[0m\u001b[0;34m\"Ingrese el porcentaje de humedad: \"\u001b[0m\u001b[0;34m)\u001b[0m\u001b[0;34m\u001b[0m\u001b[0;34m\u001b[0m\u001b[0m\n",
            "\u001b[0;32m/usr/local/lib/python3.12/dist-packages/ipykernel/kernelbase.py\u001b[0m in \u001b[0;36mraw_input\u001b[0;34m(self, prompt)\u001b[0m\n\u001b[1;32m   1175\u001b[0m                 \u001b[0;34m\"raw_input was called, but this frontend does not support input requests.\"\u001b[0m\u001b[0;34m\u001b[0m\u001b[0;34m\u001b[0m\u001b[0m\n\u001b[1;32m   1176\u001b[0m             )\n\u001b[0;32m-> 1177\u001b[0;31m         return self._input_request(\n\u001b[0m\u001b[1;32m   1178\u001b[0m             \u001b[0mstr\u001b[0m\u001b[0;34m(\u001b[0m\u001b[0mprompt\u001b[0m\u001b[0;34m)\u001b[0m\u001b[0;34m,\u001b[0m\u001b[0;34m\u001b[0m\u001b[0;34m\u001b[0m\u001b[0m\n\u001b[1;32m   1179\u001b[0m             \u001b[0mself\u001b[0m\u001b[0;34m.\u001b[0m\u001b[0m_parent_ident\u001b[0m\u001b[0;34m[\u001b[0m\u001b[0;34m\"shell\"\u001b[0m\u001b[0;34m]\u001b[0m\u001b[0;34m,\u001b[0m\u001b[0;34m\u001b[0m\u001b[0;34m\u001b[0m\u001b[0m\n",
            "\u001b[0;32m/usr/local/lib/python3.12/dist-packages/ipykernel/kernelbase.py\u001b[0m in \u001b[0;36m_input_request\u001b[0;34m(self, prompt, ident, parent, password)\u001b[0m\n\u001b[1;32m   1217\u001b[0m             \u001b[0;32mexcept\u001b[0m \u001b[0mKeyboardInterrupt\u001b[0m\u001b[0;34m:\u001b[0m\u001b[0;34m\u001b[0m\u001b[0;34m\u001b[0m\u001b[0m\n\u001b[1;32m   1218\u001b[0m                 \u001b[0;31m# re-raise KeyboardInterrupt, to truncate traceback\u001b[0m\u001b[0;34m\u001b[0m\u001b[0;34m\u001b[0m\u001b[0m\n\u001b[0;32m-> 1219\u001b[0;31m                 \u001b[0;32mraise\u001b[0m \u001b[0mKeyboardInterrupt\u001b[0m\u001b[0;34m(\u001b[0m\u001b[0;34m\"Interrupted by user\"\u001b[0m\u001b[0;34m)\u001b[0m \u001b[0;32mfrom\u001b[0m \u001b[0;32mNone\u001b[0m\u001b[0;34m\u001b[0m\u001b[0;34m\u001b[0m\u001b[0m\n\u001b[0m\u001b[1;32m   1220\u001b[0m             \u001b[0;32mexcept\u001b[0m \u001b[0mException\u001b[0m\u001b[0;34m:\u001b[0m\u001b[0;34m\u001b[0m\u001b[0;34m\u001b[0m\u001b[0m\n\u001b[1;32m   1221\u001b[0m                 \u001b[0mself\u001b[0m\u001b[0;34m.\u001b[0m\u001b[0mlog\u001b[0m\u001b[0;34m.\u001b[0m\u001b[0mwarning\u001b[0m\u001b[0;34m(\u001b[0m\u001b[0;34m\"Invalid Message:\"\u001b[0m\u001b[0;34m,\u001b[0m \u001b[0mexc_info\u001b[0m\u001b[0;34m=\u001b[0m\u001b[0;32mTrue\u001b[0m\u001b[0;34m)\u001b[0m\u001b[0;34m\u001b[0m\u001b[0;34m\u001b[0m\u001b[0m\n",
            "\u001b[0;31mKeyboardInterrupt\u001b[0m: Interrupted by user"
          ]
        }
      ]
    }
  ]
}