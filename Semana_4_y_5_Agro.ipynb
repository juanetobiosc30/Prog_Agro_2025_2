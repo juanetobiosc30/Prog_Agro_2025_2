{
  "nbformat": 4,
  "nbformat_minor": 0,
  "metadata": {
    "colab": {
      "provenance": [],
      "authorship_tag": "ABX9TyNHu4vrnYzLLhVYBu8xVYjC",
      "include_colab_link": true
    },
    "kernelspec": {
      "name": "python3",
      "display_name": "Python 3"
    },
    "language_info": {
      "name": "python"
    }
  },
  "cells": [
    {
      "cell_type": "markdown",
      "metadata": {
        "id": "view-in-github",
        "colab_type": "text"
      },
      "source": [
        "<a href=\"https://colab.research.google.com/github/juanetobiosc30/Prog_Agro_2025_2/blob/main/Semana_4_y_5_Agro.ipynb\" target=\"_parent\"><img src=\"https://colab.research.google.com/assets/colab-badge.svg\" alt=\"Open In Colab\"/></a>"
      ]
    },
    {
      "cell_type": "code",
      "execution_count": null,
      "metadata": {
        "id": "TwSg9wD0v_sz"
      },
      "outputs": [],
      "source": []
    },
    {
      "cell_type": "markdown",
      "metadata": {
        "id": "36e31692"
      },
      "source": [
        "En Python, una **función** es un bloque de código organizado y reutilizable que se utiliza para realizar una tarea específica. Las funciones ayudan a modularizar el código, hacerlo más legible y fácil de mantener.\n",
        "\n",
        "**Uso de las Funciones:**\n",
        "\n",
        "*   **Definición:** Se definen utilizando la palabra clave `def`, seguida del nombre de la función, paréntesis `()` (que pueden contener parámetros) y dos puntos `:`. El bloque de código de la función está indentado."
      ]
    },
    {
      "cell_type": "code",
      "metadata": {
        "id": "05466b48"
      },
      "source": [
        "    mi_funcion()\n",
        "    saludar(\"Mundo\") # Pasando un argumento a la función"
      ],
      "execution_count": null,
      "outputs": []
    },
    {
      "cell_type": "code",
      "metadata": {
        "id": "dfbb3d5a"
      },
      "source": [
        "    def sumar(a, b):\n",
        "        return a + b\n",
        "\n",
        "    resultado = sumar(5, 3) # resultado será 8\n",
        "    print(resultado)"
      ],
      "execution_count": null,
      "outputs": []
    },
    {
      "cell_type": "markdown",
      "metadata": {
        "id": "fa02b8d4"
      },
      "source": [
        "En Python, las **listas**, las **tuplas** y los **diccionarios** son estructuras de datos fundamentales que se utilizan para almacenar colecciones de elementos. Cada una tiene sus propias características y casos de uso.\n",
        "\n",
        "**Listas (`list`)**\n",
        "\n",
        "*   Son colecciones ordenadas y modificables (mutables) de elementos.\n",
        "*   Se definen utilizando corchetes `[]`.\n",
        "*   Pueden contener elementos de diferentes tipos de datos.\n",
        "*   Permiten agregar, eliminar o modificar elementos después de su creación.\n",
        "*   Admiten indexación y slicing.\n",
        "\n",
        "**Tuplas (`tuple`)**\n",
        "\n",
        "*   Son colecciones ordenadas e inmutables de elementos.\n",
        "*   Se definen utilizando paréntesis `()`.\n",
        "*   Pueden contener elementos de diferentes tipos de datos.\n",
        "*   Una vez creadas, no se pueden modificar (agregar, eliminar o cambiar elementos).\n",
        "*   Admiten indexación y slicing.\n",
        "*   Son generalmente más rápidas que las listas para iterar.\n",
        "*   Se utilizan a menudo para datos que no deben cambiar, como coordenadas.\n",
        "\n",
        "**Diccionarios (`dict`)**\n",
        "\n",
        "*   Son colecciones desordenadas y modificables de pares clave-valor.\n",
        "*   Se definen utilizando llaves `{}`.\n",
        "*   Cada elemento es un par `clave: valor`. Las claves deben ser únicas e inmutables (como cadenas, números o tuplas). Los valores pueden ser de cualquier tipo de dato.\n",
        "*   Permiten acceder a los valores utilizando sus claves.\n",
        "*   Permiten agregar, eliminar o modificar pares clave-valor.\n",
        "\n",
        "**Similitudes:**\n",
        "\n",
        "*   Las listas, tuplas y diccionarios pueden almacenar colecciones de elementos.\n",
        "*   Las listas y tuplas son colecciones ordenadas, lo que significa que los elementos tienen un orden definido y se puede acceder a ellos por índice.\n",
        "*   Las listas y diccionarios son mutables, lo que permite modificar su contenido después de la creación.\n",
        "\n",
        "**Diferencias:**\n",
        "\n",
        "*   **Mutabilidad:** Las listas y diccionarios son mutables (se pueden cambiar), mientras que las tuplas son inmutables (no se pueden cambiar después de la creación). Esta es la diferencia más importante.\n",
        "*   **Sintaxis:** Se definen con diferentes tipos de corchetes/paréntesis: `[]` para listas, `()` para tuplas y `{}` para diccionarios.\n",
        "*   **Organización:** Las listas y tuplas almacenan elementos en una secuencia indexada numéricamente, mientras que los diccionarios almacenan elementos como pares clave-valor.\n",
        "*   **Casos de Uso:** Las listas se usan para colecciones que cambian frecuentemente. Las tuplas se usan para colecciones fijas o para datos que no deben ser alterados. Los diccionarios se usan para mapear claves a valores, ideal para buscar información por nombre o identificador."
      ]
    }
  ]
}