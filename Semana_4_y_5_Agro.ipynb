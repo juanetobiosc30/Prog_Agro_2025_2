{
  "nbformat": 4,
  "nbformat_minor": 0,
  "metadata": {
    "colab": {
      "provenance": [],
      "authorship_tag": "ABX9TyMTmBlM+JCwjsDmNi4CeGrX",
      "include_colab_link": true
    },
    "kernelspec": {
      "name": "python3",
      "display_name": "Python 3"
    },
    "language_info": {
      "name": "python"
    }
  },
  "cells": [
    {
      "cell_type": "markdown",
      "metadata": {
        "id": "view-in-github",
        "colab_type": "text"
      },
      "source": [
        "<a href=\"https://colab.research.google.com/github/juanetobiosc30/Prog_Agro_2025_2/blob/main/Semana_4_y_5_Agro.ipynb\" target=\"_parent\"><img src=\"https://colab.research.google.com/assets/colab-badge.svg\" alt=\"Open In Colab\"/></a>"
      ]
    },
    {
      "cell_type": "code",
      "execution_count": null,
      "metadata": {
        "id": "TwSg9wD0v_sz"
      },
      "outputs": [],
      "source": []
    },
    {
      "cell_type": "markdown",
      "metadata": {
        "id": "36e31692"
      },
      "source": [
        "En Python, una **función** es un bloque de código organizado y reutilizable que se utiliza para realizar una tarea específica. Las funciones ayudan a modularizar el código, hacerlo más legible y fácil de mantener.\n",
        "\n",
        "**Uso de las Funciones:**\n",
        "\n",
        "*   **Definición:** Se definen utilizando la palabra clave `def`, seguida del nombre de la función, paréntesis `()` (que pueden contener parámetros) y dos puntos `:`. El bloque de código de la función está indentado."
      ]
    },
    {
      "cell_type": "code",
      "metadata": {
        "id": "05466b48"
      },
      "source": [
        "    mi_funcion()\n",
        "    saludar(\"Mundo\") # Pasando un argumento a la función"
      ],
      "execution_count": null,
      "outputs": []
    },
    {
      "cell_type": "code",
      "metadata": {
        "id": "dfbb3d5a"
      },
      "source": [
        "    def sumar(a, b):\n",
        "        return a + b\n",
        "\n",
        "    resultado = sumar(5, 3) # resultado será 8\n",
        "    print(resultado)"
      ],
      "execution_count": null,
      "outputs": []
    },
    {
      "cell_type": "markdown",
      "metadata": {
        "id": "fa02b8d4"
      },
      "source": [
        "En Python, las **listas**, las **tuplas** y los **diccionarios** son estructuras de datos fundamentales que se utilizan para almacenar colecciones de elementos. Cada una tiene sus propias características y casos de uso.\n",
        "\n",
        "**Listas (`list`)**\n",
        "\n",
        "*   Son colecciones ordenadas y modificables (mutables) de elementos.\n",
        "*   Se definen utilizando corchetes `[]`.\n",
        "*   Pueden contener elementos de diferentes tipos de datos.\n",
        "*   Permiten agregar, eliminar o modificar elementos después de su creación.\n",
        "*   Admiten indexación y slicing.\n",
        "\n",
        "**Tuplas (`tuple`)**\n",
        "\n",
        "*   Son colecciones ordenadas e inmutables de elementos.\n",
        "*   Se definen utilizando paréntesis `()`.\n",
        "*   Pueden contener elementos de diferentes tipos de datos.\n",
        "*   Una vez creadas, no se pueden modificar (agregar, eliminar o cambiar elementos).\n",
        "*   Admiten indexación y slicing.\n",
        "*   Son generalmente más rápidas que las listas para iterar.\n",
        "*   Se utilizan a menudo para datos que no deben cambiar, como coordenadas.\n",
        "\n",
        "**Diccionarios (`dict`)**\n",
        "\n",
        "*   Son colecciones desordenadas y modificables de pares clave-valor.\n",
        "*   Se definen utilizando llaves `{}`.\n",
        "*   Cada elemento es un par `clave: valor`. Las claves deben ser únicas e inmutables (como cadenas, números o tuplas). Los valores pueden ser de cualquier tipo de dato.\n",
        "*   Permiten acceder a los valores utilizando sus claves.\n",
        "*   Permiten agregar, eliminar o modificar pares clave-valor.\n",
        "\n",
        "**Similitudes:**\n",
        "\n",
        "*   Las listas, tuplas y diccionarios pueden almacenar colecciones de elementos.\n",
        "*   Las listas y tuplas son colecciones ordenadas, lo que significa que los elementos tienen un orden definido y se puede acceder a ellos por índice.\n",
        "*   Las listas y diccionarios son mutables, lo que permite modificar su contenido después de la creación.\n",
        "\n",
        "**Diferencias:**\n",
        "\n",
        "*   **Mutabilidad:** Las listas y diccionarios son mutables (se pueden cambiar), mientras que las tuplas son inmutables (no se pueden cambiar después de la creación). Esta es la diferencia más importante.\n",
        "*   **Sintaxis:** Se definen con diferentes tipos de corchetes/paréntesis: `[]` para listas, `()` para tuplas y `{}` para diccionarios.\n",
        "*   **Organización:** Las listas y tuplas almacenan elementos en una secuencia indexada numéricamente, mientras que los diccionarios almacenan elementos como pares clave-valor.\n",
        "*   **Casos de Uso:** Las listas se usan para colecciones que cambian frecuentemente. Las tuplas se usan para colecciones fijas o para datos que no deben ser alterados. Los diccionarios se usan para mapear claves a valores, ideal para buscar información por nombre o identificador."
      ]
    },
    {
      "cell_type": "markdown",
      "source": [
        "# Situación de Interés en Ingeniería Agrícola:\n",
        "\n",
        "Un agrónomo consultor necesita una herramienta\n",
        "rápida para aconsejar a los agricultores sobre qué cultivos sembrar. Se requiere un programa que almacene información de varios cultivos (nombre, mes ideal de siembra, necesidad de agua) y que, al\n",
        "ingresar el nombre de un mes, recomiende qué cultivos son adecuados para sembrar en ese período.\n",
        "\n",
        "Caso de Ingeniería Agrícola: Planificador de Cultivos (Listas y Funciones)\n",
        "• Paso a Paso del Código:\n",
        "1. Crear una lista donde cada elemento sea un diccionario. Cada diccionario representará un\n",
        "cultivo y tendrá claves como nombre, mes_siembra y riego.\n",
        "2. Crear una función llamada recomendar_cultivos. Esta función recibirá dos parámetros: la\n",
        "lista completa de cultivos y el mes actual.\n",
        "3. Dentro de la función, usar un bucle for para recorrer la lista de cultivos.\n",
        "4. En cada iteración, usar un if para comprobar si el mes_siembra del cultivo coincide con el mes\n",
        "proporcionado.\n",
        "5. Si coinciden, añadir el nombre del cultivo a una nueva lista de recomendados.\n",
        "6. Al final, la función debe devolver la lista de cultivos recomendados.\n",
        "7. En el programa principal, pedir al usuario el mes y llamar a la función para obtener e imprimir\n",
        "las recomendaciones."
      ],
      "metadata": {
        "id": "NPXQlMRV1vTi"
      }
    },
    {
      "cell_type": "markdown",
      "metadata": {
        "id": "ab613e55"
      },
      "source": [
        "Aquí tienes la explicación del código de Python para el Planificador de Cultivos:\n",
        "\n",
        "Este código implementa un sencillo planificador de cultivos utilizando listas y diccionarios en Python, siguiendo los pasos descritos en la situación de interés de Ingeniería Agrícola.\n",
        "\n",
        "1.  **Lista de Cultivos (`cultivos`)**:\n",
        "    *   Se crea una lista llamada `cultivos`.\n",
        "    *   Cada elemento dentro de esta lista es un **diccionario**.\n",
        "    *   Cada diccionario representa un cultivo individual y contiene tres pares clave-valor:\n",
        "        *   `\"nombre\"`: El nombre del cultivo (ej: \"Maíz\", \"Trigo\").\n",
        "        *   `\"mes_siembra\"`: El mes ideal para sembrar ese cultivo (ej: \"Abril\", \"Octubre\").\n",
        "        *   `\"riego\"`: La necesidad de agua del cultivo (ej: \"Alto\", \"Medio\", \"Bajo\").\n",
        "2.  **Función `recomendar_cultivos`**:\n",
        "    *   Se define una función llamada `recomendar_cultivos` que toma dos argumentos:\n",
        "        *   `lista_cultivos`: La lista de diccionarios que contiene la información de todos los cultivos.\n",
        "        *   `mes_actual`: Una cadena de texto que representa el mes para el que se desean obtener recomendaciones.\n",
        "    *   Dentro de la función, se inicializa una lista vacía llamada `recomendados`. Esta lista almacenará los nombres de los cultivos que coincidan con el mes ingresado.\n",
        "    *   Se utiliza un bucle `for` para iterar sobre cada `cultivo` (que es un diccionario) en la `lista_cultivos` proporcionada.\n",
        "    *   Dentro del bucle, se usa una sentencia `if` para comparar el valor asociado a la clave `\"mes_siembra\"` del diccionario `cultivo` con el `mes_actual` ingresado por el usuario. Se utiliza `.lower()` en ambos para asegurar que la comparación no distinga entre mayúsculas y minúsculas (ej: \"Abril\" es igual a \"abril\").\n",
        "    *   Si el `mes_siembra` del cultivo actual coincide con el `mes_actual`, el nombre del cultivo (obtenido con `cultivo[\"nombre\"]`) se añade a la lista `recomendados` usando `.append()`.\n",
        "    *   Finalmente, la función `returna` la lista `recomendados`, que contiene los nombres de todos los cultivos adecuados para el mes especificado.\n",
        "3.  **Programa Principal**:\n",
        "    *   Se solicita al usuario que ingrese el mes actual utilizando la función `input()`. El valor ingresado se almacena en la variable `mes_ingresado`.\n",
        "    *   Se llama a la función `recomendar_cultivos`, pasándole la lista `cultivos` y el `mes_ingresado`. El resultado (la lista de cultivos recomendados) se guarda en la variable `cultivos_recomendados`.\n",
        "    *   Se utiliza una sentencia `if` para verificar si la lista `cultivos_recomendados` no está vacía (es decir, si se encontraron cultivos para el mes).\n",
        "    *   Si la lista no está vacía:\n",
        "        *   Se imprime un mensaje indicando los cultivos recomendados para el mes ingresado.\n",
        "        *   Se usa otro bucle `for` para iterar sobre cada `cultivo` en la lista `cultivos_recomendados` e imprimir cada nombre de cultivo en una línea separada con un guion.\n",
        "    *   Si la lista `cultivos_recomendados` está vacía (es decir, no se encontraron cultivos para ese mes en la lista):\n",
        "        *   Se imprime un mensaje indicando que no hay cultivos recomendados para sembrar en el mes ingresado según la lista proporcionada.\n",
        "\n",
        "En resumen, el código define una estructura de datos para los cultivos, una función para filtrar esos cultivos por mes de siembra, y luego interactúa con el usuario para obtener un mes y mostrar las recomendaciones correspondientes."
      ]
    },
    {
      "cell_type": "markdown",
      "metadata": {
        "id": "8d60bbb8"
      },
      "source": [
        "Aquí tienes la explicación del código de Python para el Planificador de Cultivos:\n",
        "\n",
        "Este código implementa un sencillo planificador de cultivos utilizando listas y diccionarios en Python, siguiendo los pasos descritos en la situación de interés de Ingeniería Agrícola.\n",
        "\n",
        "1.  **Lista de Cultivos (`cultivos`)**:\n",
        "    *   Se crea una lista llamada `cultivos`.\n",
        "    *   Cada elemento dentro de esta lista es un **diccionario**.\n",
        "    *   Cada diccionario representa un cultivo individual y contiene tres pares clave-valor:\n",
        "        *   `\"nombre\"`: El nombre del cultivo (ej: \"Maíz\", \"Trigo\").\n",
        "        *   `\"mes_siembra\"`: El mes ideal para sembrar ese cultivo (ej: \"Abril\", \"Octubre\").\n",
        "        *   `\"riego\"`: La necesidad de agua del cultivo (ej: \"Alto\", \"Medio\", \"Bajo\").\n",
        "\n",
        "2.  **Función `recomendar_cultivos`**:\n",
        "    *   Se define una función llamada `recomendar_cultivos` que toma dos argumentos:\n",
        "        *   `lista_cultivos`: La lista de diccionarios que contiene la información de todos los cultivos.\n",
        "        *   `mes_actual`: Una cadena de texto que representa el mes para el que se desean obtener recomendaciones.\n",
        "    *   Dentro de la función, se inicializa una lista vacía llamada `recomendados`. Esta lista almacenará los nombres de los cultivos que coincidan con el mes ingresado.\n",
        "    *   Se utiliza un bucle `for` para iterar sobre cada `cultivo` (que es un diccionario) en la `lista_cultivos` proporcionada.\n",
        "    *   Dentro del bucle, se usa una sentencia `if` para comparar el valor asociado a la clave `\"mes_siembra\"` del diccionario `cultivo` con el `mes_actual` ingresado por el usuario. Se utiliza `.lower()` en ambos para asegurar que la comparación no distinga entre mayúsculas y minúsculas (ej: \"Abril\" es igual a \"abril\").\n",
        "    *   Si el `mes_siembra` del cultivo actual coincide con el `mes_actual`, el nombre del cultivo (obtenido con `cultivo[\"nombre\"]`) se añade a la lista `recomendados` usando `.append()`.\n",
        "    *   Finalmente, la función `returna` la lista `recomendados`, que contiene los nombres de todos los cultivos adecuados para el mes especificado.\n",
        "\n",
        "3.  **Programa Principal**:\n",
        "    *   Se solicita al usuario que ingrese el mes actual utilizando la función `input()`. El valor ingresado se almacena en la variable `mes_ingresado`.\n",
        "    *   Se llama a la función `recomendar_cultivos`, pasándole la lista `cultivos` y el `mes_ingresado`. El resultado (la lista de cultivos recomendados) se guarda en la variable `cultivos_recomendados`.\n",
        "    *   Se utiliza una sentencia `if` para verificar si la lista `cultivos_recomendados` no está vacía (es decir, si se encontraron cultivos para el mes).\n",
        "    *   Si la lista no está vacía:\n",
        "        *   Se imprime un mensaje indicando los cultivos recomendados para el mes ingresado.\n",
        "        *   Se usa otro bucle `for` para iterar sobre cada `cultivo` en la lista `cultivos_recomendados` e imprimir cada nombre de cultivo en una línea separada con un guion.\n",
        "    *   Si la lista `cultivos_recomendados` está vacía (es decir, no se encontraron cultivos para ese mes en la lista):\n",
        "        *   Se imprime un mensaje indicando que no hay cultivos recomendados para sembrar en el mes ingresado según la lista proporcionada.\n",
        "\n",
        "En resumen, el código define una estructura de datos para los cultivos, una función para filtrar esos cultivos por mes de siembra, y luego interactúa con el usuario para obtener un mes y mostrar las recomendaciones correspondientes.\n"
      ]
    },
    {
      "cell_type": "code",
      "metadata": {
        "colab": {
          "base_uri": "https://localhost:8080/"
        },
        "id": "51b543c2",
        "outputId": "b1e0511b-2ac4-44be-dfbb-a12b5fb61e40"
      },
      "source": [
        "# 1. Crear una lista donde cada elemento sea un diccionario. Cada diccionario representará un\n",
        "#    cultivo y tendrá claves como nombre, mes_siembra y riego.\n",
        "cultivos = [\n",
        "    {\"nombre\": \"Maíz\", \"mes_siembra\": \"Abril\", \"riego\": \"Alto\"},\n",
        "    {\"nombre\": \"Trigo\", \"mes_siembra\": \"Octubre\", \"riego\": \"Medio\"},\n",
        "    {\"nombre\": \"Tomate\", \"mes_siembra\": \"Marzo\", \"riego\": \"Alto\"},\n",
        "    {\"nombre\": \"Patata\", \"mes_siembra\": \"Febrero\", \"riego\": \"Medio\"},\n",
        "    {\"nombre\": \"Girasol\", \"mes_siembra\": \"Mayo\", \"riego\": \"Bajo\"},\n",
        "    {\"nombre\": \"Cebolla\", \"mes_siembra\": \"Septiembre\", \"riego\": \"Medio\"},\n",
        "]\n",
        "\n",
        "# 2. Crear una función llamada recomendar_cultivos. Esta función recibirá dos parámetros: la\n",
        "#    lista completa de cultivos y el mes actual.\n",
        "def recomendar_cultivos(lista_cultivos, mes_actual):\n",
        "    recomendados = []\n",
        "    # 3. Dentro de la función, usar un bucle for para recorrer la lista de cultivos.\n",
        "    for cultivo in lista_cultivos:\n",
        "        # 4. En cada iteración, usar un if para comprobar si el mes_siembra del cultivo coincide con el mes\n",
        "        #    proporcionado.\n",
        "        if cultivo[\"mes_siembra\"].lower() == mes_actual.lower():\n",
        "            # 5. Si coinciden, añadir el nombre del cultivo a una nueva lista de recomendados.\n",
        "            recomendados.append(cultivo[\"nombre\"])\n",
        "    # 6. Al final, la función debe devolver la lista de cultivos recomendados.\n",
        "    return recomendados\n",
        "\n",
        "# 7. En el programa principal, pedir al usuario el mes y llamar a la función para obtener e imprimir\n",
        "#    las recomendaciones.\n",
        "mes_ingresado = input(\"Ingrese el mes actual para recomendar cultivos: \")\n",
        "\n",
        "cultivos_recomendados = recomendar_cultivos(cultivos, mes_ingresado)\n",
        "\n",
        "if cultivos_recomendados:\n",
        "    print(f\"Cultivos recomendados para sembrar en {mes_ingresado}:\")\n",
        "    for cultivo in cultivos_recomendados:\n",
        "        print(f\"- {cultivo}\")\n",
        "else:\n",
        "    print(f\"No hay cultivos recomendados para sembrar en {mes_ingresado} en esta lista.\")"
      ],
      "execution_count": 1,
      "outputs": [
        {
          "output_type": "stream",
          "name": "stdout",
          "text": [
            "Ingrese el mes actual para recomendar cultivos: Noviembre\n",
            "No hay cultivos recomendados para sembrar en Noviembre en esta lista.\n"
          ]
        }
      ]
    }
  ]
}