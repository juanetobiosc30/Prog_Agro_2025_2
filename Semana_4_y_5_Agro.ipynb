{
  "nbformat": 4,
  "nbformat_minor": 0,
  "metadata": {
    "colab": {
      "provenance": [],
      "authorship_tag": "ABX9TyMRva4eqqTYS9vH7D4h0EZM",
      "include_colab_link": true
    },
    "kernelspec": {
      "name": "python3",
      "display_name": "Python 3"
    },
    "language_info": {
      "name": "python"
    }
  },
  "cells": [
    {
      "cell_type": "markdown",
      "metadata": {
        "id": "view-in-github",
        "colab_type": "text"
      },
      "source": [
        "<a href=\"https://colab.research.google.com/github/juanetobiosc30/Prog_Agro_2025_2/blob/main/Semana_4_y_5_Agro.ipynb\" target=\"_parent\"><img src=\"https://colab.research.google.com/assets/colab-badge.svg\" alt=\"Open In Colab\"/></a>"
      ]
    },
    {
      "cell_type": "code",
      "execution_count": null,
      "metadata": {
        "id": "TwSg9wD0v_sz"
      },
      "outputs": [],
      "source": []
    },
    {
      "cell_type": "markdown",
      "metadata": {
        "id": "36e31692"
      },
      "source": [
        "En Python, una **función** es un bloque de código organizado y reutilizable que se utiliza para realizar una tarea específica. Las funciones ayudan a modularizar el código, hacerlo más legible y fácil de mantener.\n",
        "\n",
        "**Uso de las Funciones:**\n",
        "\n",
        "*   **Definición:** Se definen utilizando la palabra clave `def`, seguida del nombre de la función, paréntesis `()` (que pueden contener parámetros) y dos puntos `:`. El bloque de código de la función está indentado."
      ]
    },
    {
      "cell_type": "code",
      "metadata": {
        "id": "05466b48"
      },
      "source": [
        "    mi_funcion()\n",
        "    saludar(\"Mundo\") # Pasando un argumento a la función"
      ],
      "execution_count": null,
      "outputs": []
    },
    {
      "cell_type": "code",
      "metadata": {
        "id": "dfbb3d5a"
      },
      "source": [
        "    def sumar(a, b):\n",
        "        return a + b\n",
        "\n",
        "    resultado = sumar(5, 3) # resultado será 8\n",
        "    print(resultado)"
      ],
      "execution_count": null,
      "outputs": []
    },
    {
      "cell_type": "markdown",
      "metadata": {
        "id": "fa02b8d4"
      },
      "source": [
        "En Python, las **listas**, las **tuplas** y los **diccionarios** son estructuras de datos fundamentales que se utilizan para almacenar colecciones de elementos. Cada una tiene sus propias características y casos de uso.\n",
        "\n",
        "**Listas (`list`)**\n",
        "\n",
        "*   Son colecciones ordenadas y modificables (mutables) de elementos.\n",
        "*   Se definen utilizando corchetes `[]`.\n",
        "*   Pueden contener elementos de diferentes tipos de datos.\n",
        "*   Permiten agregar, eliminar o modificar elementos después de su creación.\n",
        "*   Admiten indexación y slicing.\n",
        "\n",
        "**Tuplas (`tuple`)**\n",
        "\n",
        "*   Son colecciones ordenadas e inmutables de elementos.\n",
        "*   Se definen utilizando paréntesis `()`.\n",
        "*   Pueden contener elementos de diferentes tipos de datos.\n",
        "*   Una vez creadas, no se pueden modificar (agregar, eliminar o cambiar elementos).\n",
        "*   Admiten indexación y slicing.\n",
        "*   Son generalmente más rápidas que las listas para iterar.\n",
        "*   Se utilizan a menudo para datos que no deben cambiar, como coordenadas.\n",
        "\n",
        "**Diccionarios (`dict`)**\n",
        "\n",
        "*   Son colecciones desordenadas y modificables de pares clave-valor.\n",
        "*   Se definen utilizando llaves `{}`.\n",
        "*   Cada elemento es un par `clave: valor`. Las claves deben ser únicas e inmutables (como cadenas, números o tuplas). Los valores pueden ser de cualquier tipo de dato.\n",
        "*   Permiten acceder a los valores utilizando sus claves.\n",
        "*   Permiten agregar, eliminar o modificar pares clave-valor.\n",
        "\n",
        "**Similitudes:**\n",
        "\n",
        "*   Las listas, tuplas y diccionarios pueden almacenar colecciones de elementos.\n",
        "*   Las listas y tuplas son colecciones ordenadas, lo que significa que los elementos tienen un orden definido y se puede acceder a ellos por índice.\n",
        "*   Las listas y diccionarios son mutables, lo que permite modificar su contenido después de la creación.\n",
        "\n",
        "**Diferencias:**\n",
        "\n",
        "*   **Mutabilidad:** Las listas y diccionarios son mutables (se pueden cambiar), mientras que las tuplas son inmutables (no se pueden cambiar después de la creación). Esta es la diferencia más importante.\n",
        "*   **Sintaxis:** Se definen con diferentes tipos de corchetes/paréntesis: `[]` para listas, `()` para tuplas y `{}` para diccionarios.\n",
        "*   **Organización:** Las listas y tuplas almacenan elementos en una secuencia indexada numéricamente, mientras que los diccionarios almacenan elementos como pares clave-valor.\n",
        "*   **Casos de Uso:** Las listas se usan para colecciones que cambian frecuentemente. Las tuplas se usan para colecciones fijas o para datos que no deben ser alterados. Los diccionarios se usan para mapear claves a valores, ideal para buscar información por nombre o identificador."
      ]
    },
    {
      "cell_type": "markdown",
      "source": [
        "# Situación de Interés en Ingeniería Agrícola:\n",
        "\n",
        "Un agrónomo consultor necesita una herramienta\n",
        "rápida para aconsejar a los agricultores sobre qué cultivos sembrar. Se requiere un programa que almacene información de varios cultivos (nombre, mes ideal de siembra, necesidad de agua) y que, al\n",
        "ingresar el nombre de un mes, recomiende qué cultivos son adecuados para sembrar en ese período.\n",
        "\n",
        "Caso de Ingeniería Agrícola: Planificador de Cultivos (Listas y Funciones)\n",
        "• Paso a Paso del Código:\n",
        "1. Crear una lista donde cada elemento sea un diccionario. Cada diccionario representará un\n",
        "cultivo y tendrá claves como nombre, mes_siembra y riego.\n",
        "2. Crear una función llamada recomendar_cultivos. Esta función recibirá dos parámetros: la\n",
        "lista completa de cultivos y el mes actual.\n",
        "3. Dentro de la función, usar un bucle for para recorrer la lista de cultivos.\n",
        "4. En cada iteración, usar un if para comprobar si el mes_siembra del cultivo coincide con el mes\n",
        "proporcionado.\n",
        "5. Si coinciden, añadir el nombre del cultivo a una nueva lista de recomendados.\n",
        "6. Al final, la función debe devolver la lista de cultivos recomendados.\n",
        "7. En el programa principal, pedir al usuario el mes y llamar a la función para obtener e imprimir\n",
        "las recomendaciones."
      ],
      "metadata": {
        "id": "NPXQlMRV1vTi"
      }
    },
    {
      "cell_type": "code",
      "metadata": {
        "colab": {
          "base_uri": "https://localhost:8080/"
        },
        "id": "51b543c2",
        "outputId": "b1e0511b-2ac4-44be-dfbb-a12b5fb61e40"
      },
      "source": [
        "# 1. Crear una lista donde cada elemento sea un diccionario. Cada diccionario representará un\n",
        "#    cultivo y tendrá claves como nombre, mes_siembra y riego.\n",
        "cultivos = [\n",
        "    {\"nombre\": \"Maíz\", \"mes_siembra\": \"Abril\", \"riego\": \"Alto\"},\n",
        "    {\"nombre\": \"Trigo\", \"mes_siembra\": \"Octubre\", \"riego\": \"Medio\"},\n",
        "    {\"nombre\": \"Tomate\", \"mes_siembra\": \"Marzo\", \"riego\": \"Alto\"},\n",
        "    {\"nombre\": \"Patata\", \"mes_siembra\": \"Febrero\", \"riego\": \"Medio\"},\n",
        "    {\"nombre\": \"Girasol\", \"mes_siembra\": \"Mayo\", \"riego\": \"Bajo\"},\n",
        "    {\"nombre\": \"Cebolla\", \"mes_siembra\": \"Septiembre\", \"riego\": \"Medio\"},\n",
        "]\n",
        "\n",
        "# 2. Crear una función llamada recomendar_cultivos. Esta función recibirá dos parámetros: la\n",
        "#    lista completa de cultivos y el mes actual.\n",
        "def recomendar_cultivos(lista_cultivos, mes_actual):\n",
        "    recomendados = []\n",
        "    # 3. Dentro de la función, usar un bucle for para recorrer la lista de cultivos.\n",
        "    for cultivo in lista_cultivos:\n",
        "        # 4. En cada iteración, usar un if para comprobar si el mes_siembra del cultivo coincide con el mes\n",
        "        #    proporcionado.\n",
        "        if cultivo[\"mes_siembra\"].lower() == mes_actual.lower():\n",
        "            # 5. Si coinciden, añadir el nombre del cultivo a una nueva lista de recomendados.\n",
        "            recomendados.append(cultivo[\"nombre\"])\n",
        "    # 6. Al final, la función debe devolver la lista de cultivos recomendados.\n",
        "    return recomendados\n",
        "\n",
        "# 7. En el programa principal, pedir al usuario el mes y llamar a la función para obtener e imprimir\n",
        "#    las recomendaciones.\n",
        "mes_ingresado = input(\"Ingrese el mes actual para recomendar cultivos: \")\n",
        "\n",
        "cultivos_recomendados = recomendar_cultivos(cultivos, mes_ingresado)\n",
        "\n",
        "if cultivos_recomendados:\n",
        "    print(f\"Cultivos recomendados para sembrar en {mes_ingresado}:\")\n",
        "    for cultivo in cultivos_recomendados:\n",
        "        print(f\"- {cultivo}\")\n",
        "else:\n",
        "    print(f\"No hay cultivos recomendados para sembrar en {mes_ingresado} en esta lista.\")"
      ],
      "execution_count": 1,
      "outputs": [
        {
          "output_type": "stream",
          "name": "stdout",
          "text": [
            "Ingrese el mes actual para recomendar cultivos: Noviembre\n",
            "No hay cultivos recomendados para sembrar en Noviembre en esta lista.\n"
          ]
        }
      ]
    }
  ]
}